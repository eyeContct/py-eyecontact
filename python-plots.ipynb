{
 "cells": [
  {
   "cell_type": "markdown",
   "metadata": {},
   "source": [
    "# Matplotlib\n",
    "\n",
    "- https://matplotlib.org/faq/usage_faq.html\n",
    "- https://matplotlib.org/users/customizing.html\n",
    "\n",
    "## Backends\n",
    "\n",
    "There are two types of backends:\n",
    "- user interface or interactive backends (for use in pygtk, wxpython, tkinter, qt4, or macosx ...)\n",
    "- hardcopy or non-interactive backends to make image files (PNG, SVG, PDF, PS ...).\n",
    "\n",
    "You will need the underlying system libraries for the backend being used which may need to be installed.\n",
    "\n",
    "\n",
    "There are four ways to configure your backend:\n",
    "1. The backend parameter in your matplotlibrc file\n",
    "2. Setting the MPLBACKEND environment variable, either for your current shell or for a single script:\n",
    "3. To set the backend for a single script, you can alternatively use the -d command line argument (*DEPRACATED*, USE #2)\n",
    "4. If your script depends on a specific backend you can use the use() function:\n",
    "\n",
    "Matplotlib separates the concept of the **renderer** (the thing that actually does the drawing) from the **canvas** (the place where the drawing goes). The canonical renderer for user interfaces is Agg which uses the Anti-Grain Geometry C++ library to make a raster (pixel) image of the figure. All of the user interfaces except macosx can be used with agg rendering, e.g., WXAgg, GTKAgg, QT4Agg, QT5Agg, TkAgg. In addition, some of the user interfaces support other rendering engines. For example, with GTK, you can also select GDK rendering (backend GTK deprecated in 2.0) or Cairo rendering (backend GTKCairo).\n",
    "\n",
    "For the rendering engines, one can also distinguish between vector or raster renderers. Vector graphics languages issue drawing commands like “draw a line from this point to this point” and hence are scale free, and raster backends generate a pixel representation of the line whose accuracy depends on a DPI setting."
   ]
  },
  {
   "cell_type": "code",
   "execution_count": 6,
   "metadata": {
    "collapsed": true
   },
   "outputs": [],
   "source": [
    "import matplotlib\n",
    "import matplotlib.pyplot as plt\n",
    "import numpy as np\n",
    "from IPython.display import display\n",
    "#%matplotlib notebook\n",
    "#%matplotlib qt # outside window interactive!"
   ]
  },
  {
   "cell_type": "code",
   "execution_count": 2,
   "metadata": {},
   "outputs": [
    {
     "name": "stdout",
     "output_type": "stream",
     "text": [
      "module://ipykernel.pylab.backend_inline \n",
      "\n",
      "\n",
      "['GTK', 'GTKAgg', 'GTKCairo', 'MacOSX', 'Qt4Agg', 'Qt5Agg', 'TkAgg', 'WX', 'WXAgg', 'GTK3Cairo', 'GTK3Agg', 'WebAgg', 'nbAgg', 'agg', 'cairo', 'gdk', 'pdf', 'pgf', 'ps', 'svg', 'template']\n"
     ]
    }
   ],
   "source": [
    "# Show the backend being used\n",
    "print(matplotlib.get_backend(), '\\n\\n')\n",
    "\n",
    "# Show all available backends\n",
    "print(matplotlib.rcsetup.all_backends)"
   ]
  },
  {
   "cell_type": "code",
   "execution_count": null,
   "metadata": {
    "collapsed": true
   },
   "outputs": [],
   "source": []
  },
  {
   "cell_type": "code",
   "execution_count": null,
   "metadata": {
    "collapsed": true
   },
   "outputs": [],
   "source": []
  },
  {
   "cell_type": "code",
   "execution_count": null,
   "metadata": {
    "collapsed": true
   },
   "outputs": [],
   "source": []
  },
  {
   "cell_type": "code",
   "execution_count": null,
   "metadata": {
    "collapsed": true
   },
   "outputs": [],
   "source": []
  },
  {
   "cell_type": "markdown",
   "metadata": {},
   "source": [
    "## The matplotlibrc file\n",
    "\n"
   ]
  },
  {
   "cell_type": "code",
   "execution_count": 9,
   "metadata": {},
   "outputs": [
    {
     "data": {
      "text/plain": [
       "'/home/cx1111/Software/pythonenvs/p35/lib/python3.5/site-packages/matplotlib/mpl-data/matplotlibrc'"
      ]
     },
     "execution_count": 9,
     "metadata": {},
     "output_type": "execute_result"
    }
   ],
   "source": [
    "# Show the matplotlibrc file being used\n",
    "matplotlib.matplotlib_fname()"
   ]
  },
  {
   "cell_type": "code",
   "execution_count": null,
   "metadata": {
    "collapsed": true
   },
   "outputs": [],
   "source": []
  },
  {
   "cell_type": "code",
   "execution_count": null,
   "metadata": {
    "collapsed": true
   },
   "outputs": [],
   "source": []
  },
  {
   "cell_type": "markdown",
   "metadata": {},
   "source": [
    "# pyqtgraph\n",
    "\n",
    "http://www.pyqtgraph.org/\n",
    "\n",
    "The other plotting library. Built on:\n",
    "- numpy\n",
    "- PyQt4 / pyside https://riverbankcomputing.com/software/pyqt/intro\n",
    "\n",
    "PyQt is a set of Python bindings for Qt https://www.qt.io/. \n",
    "\n",
    "Qt is a cross-platform application framework that is used for developing application software that can be run on various software and hardware platforms with little or no change in the underlying codebase, while still being a native application with native capabilities and speed. Install with: `sudo apt-get install qt4-qmake libqt4-dev`\n",
    "\n",
    "## Installing pyqtgraph\n",
    "\n",
    "1. Install qt libraries: `sudo apt-get install qt4-qmake libqt4-dev`. Also make sure you have python3-dev.\n",
    "2. Install SIP, required for PyQt. SIP is a tool for creating Python bindings for C and C++ libraries.\n",
    "  - Download the tarball https://riverbankcomputing.com/software/sip/download.\n",
    "  - Activate the virtual environment and run `python configure.py`, `make`, `sudo make install`. The `sip` binary will be installed in your virtualenv bin.\n",
    "3. Install PyQt4\n",
    "  - Download the tarball https://www.riverbankcomputing.com/software/pyqt/download\n",
    "  - Activate the virtual environment and run `python configure-ng.py`, `make`, `sudo make install`.\n",
    "4. Finally install pygtgraph.\n",
    "  - Download a package http://www.pyqtgraph.org/ or clone the repo https://github.com/pyqtgraph/pyqtgraph \n",
    "  - Activate the virtual environment and run: `python setup.py install`."
   ]
  },
  {
   "cell_type": "code",
   "execution_count": null,
   "metadata": {
    "collapsed": true
   },
   "outputs": [],
   "source": []
  }
 ],
 "metadata": {
  "kernelspec": {
   "display_name": "Python 2",
   "language": "python",
   "name": "python2"
  },
  "language_info": {
   "codemirror_mode": {
    "name": "ipython",
    "version": 2
   },
   "file_extension": ".py",
   "mimetype": "text/x-python",
   "name": "python",
   "nbconvert_exporter": "python",
   "pygments_lexer": "ipython2",
   "version": "2.7.12"
  }
 },
 "nbformat": 4,
 "nbformat_minor": 2
}
