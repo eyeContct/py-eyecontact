{
 "cells": [
  {
   "cell_type": "code",
   "execution_count": null,
   "metadata": {},
   "outputs": [],
   "source": [
    "# Reading in entire video\n",
    "# ffmpeg -i filename\n",
    "import skvideo.io\n",
    "import skvideo.datasets\n",
    "videodata = skvideo.io.vread('examplevideo.mp4')\n",
    "print(videodata.shape)"
   ]
  },
  {
   "cell_type": "code",
   "execution_count": 2,
   "metadata": {},
   "outputs": [
    {
     "name": "stderr",
     "output_type": "stream",
     "text": [
      "/home/cx1111/Software/pythonenvs/polyhack/local/lib/python2.7/site-packages/skvideo/__init__.py:356: UserWarning: avconv/avprobe not found in path: \n",
      "  warnings.warn(\"avconv/avprobe not found in path: \" + str(path), UserWarning)\n"
     ]
    }
   ],
   "source": [
    "# Reading in frame by frame\n",
    "import pdb\n",
    "import skvideo.io\n",
    "import skvideo.datasets\n",
    "import numpy as np\n",
    "import pyqtgraph as pg\n",
    "from pyqtgraph.Qt import QtGui, QtCore\n",
    "from pyqtgraph.ptime import time as ptime\n",
    "\n",
    "videogen = skvideo.io.vreader('examplevideo.mp4')\n"
   ]
  },
  {
   "cell_type": "code",
   "execution_count": 3,
   "metadata": {},
   "outputs": [
    {
     "name": "stdout",
     "output_type": "stream",
     "text": [
      "(1080, 1920, 3)\n"
     ]
    }
   ],
   "source": [
    "for frame in videogen:\n",
    "    print(frame.shape)\n",
    "    break\n",
    "    "
   ]
  },
  {
   "cell_type": "code",
   "execution_count": 12,
   "metadata": {},
   "outputs": [
    {
     "data": {
      "text/plain": [
       "(1920, 1080, 3)"
      ]
     },
     "execution_count": 12,
     "metadata": {},
     "output_type": "execute_result"
    }
   ],
   "source": [
    "frame.transpose([1,0,2]).shape"
   ]
  },
  {
   "cell_type": "code",
   "execution_count": 7,
   "metadata": {},
   "outputs": [
    {
     "data": {
      "text/plain": [
       "(3, 1920, 1080)"
      ]
     },
     "execution_count": 7,
     "metadata": {},
     "output_type": "execute_result"
    }
   ],
   "source": [
    "frame.transpose().shape"
   ]
  },
  {
   "cell_type": "code",
   "execution_count": 1,
   "metadata": {},
   "outputs": [],
   "source": [
    "import pyqtgraph.examples\n",
    "pyqtgraph.examples.run()"
   ]
  },
  {
   "cell_type": "code",
   "execution_count": 1,
   "metadata": {},
   "outputs": [],
   "source": [
    "from pyqtgraph.Qt import QtCore, QtGui\n",
    "import numpy as np\n",
    "import pyqtgraph as pg\n",
    "import pyqtgraph.ptime as ptime\n",
    "\n",
    "\n",
    "app = QtGui.QApplication([])\n",
    "\n",
    "## Create window with GraphicsView widget\n",
    "win = pg.GraphicsLayoutWidget()\n",
    "win.show()  ## show widget alone in its own window\n",
    "win.setWindowTitle('pyqtgraph example: ImageItem')\n",
    "view = win.addViewBox()\n",
    "\n",
    "## lock the aspect ratio so pixels are always square\n",
    "view.setAspectLocked(True)\n",
    "\n",
    "## Create image item\n",
    "img = pg.ImageItem(border='w')\n",
    "view.addItem(img)\n",
    "\n",
    "## Set initial view bounds\n",
    "view.setRange(QtCore.QRectF(0, 0, 600, 600))\n",
    "\n",
    "## Create random image\n",
    "data = np.random.normal(size=(15, 600, 600), loc=1024, scale=64).astype(np.uint16)\n",
    "i = 0\n",
    "\n",
    "updateTime = ptime.time()\n",
    "fps = 0\n",
    "\n",
    "def updateData():\n",
    "    global img, data, i, updateTime, fps\n",
    "\n",
    "    ## Display the data\n",
    "    img.setImage(data[i])\n",
    "    i = (i+1) % data.shape[0]\n",
    "\n",
    "    QtCore.QTimer.singleShot(1, updateData)\n",
    "    now = ptime.time()\n",
    "    fps2 = 1.0 / (now-updateTime)\n",
    "    updateTime = now\n",
    "    fps = fps * 0.9 + fps2 * 0.1\n",
    "    \n",
    "    #print \"%0.1f fps\" % fps\n",
    "    \n",
    "\n",
    "updateData()"
   ]
  },
  {
   "cell_type": "code",
   "execution_count": null,
   "metadata": {},
   "outputs": [],
   "source": []
  }
 ],
 "metadata": {
  "kernelspec": {
   "display_name": "Python 2",
   "language": "python",
   "name": "python2"
  },
  "language_info": {
   "codemirror_mode": {
    "name": "ipython",
    "version": 2
   },
   "file_extension": ".py",
   "mimetype": "text/x-python",
   "name": "python",
   "nbconvert_exporter": "python",
   "pygments_lexer": "ipython2",
   "version": "2.7.12"
  }
 },
 "nbformat": 4,
 "nbformat_minor": 2
}
